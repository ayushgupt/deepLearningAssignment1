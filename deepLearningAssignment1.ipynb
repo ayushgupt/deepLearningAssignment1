{
  "nbformat": 4,
  "nbformat_minor": 0,
  "metadata": {
    "colab": {
      "name": "deepLearningAssignment1.ipynb",
      "version": "0.3.2",
      "views": {},
      "default_view": {},
      "provenance": []
    },
    "kernelspec": {
      "name": "python2",
      "display_name": "Python 2"
    }
  },
  "cells": [
    {
      "metadata": {
        "id": "gzs-3eRuh8QF",
        "colab_type": "text"
      },
      "cell_type": "markdown",
      "source": [
        "### Downloading and Unzipping the dataset"
      ]
    },
    {
      "metadata": {
        "id": "GgdCdCO_hsRx",
        "colab_type": "code",
        "colab": {
          "autoexec": {
            "startup": false,
            "wait_interval": 0
          },
          "base_uri": "https://localhost:8080/",
          "height": 170
        },
        "outputId": "0f7e39f4-fa56-42c2-d1d2-55e93ea274e5",
        "executionInfo": {
          "status": "ok",
          "timestamp": 1525943318434,
          "user_tz": -330,
          "elapsed": 18101,
          "user": {
            "displayName": "ayush gupta",
            "photoUrl": "//lh3.googleusercontent.com/-H_gav6iJTDo/AAAAAAAAAAI/AAAAAAAA9Yk/99uj7UZOMbk/s50-c-k-no/photo.jpg",
            "userId": "116069087946857344241"
          }
        }
      },
      "cell_type": "code",
      "source": [
        "!rm -rf gzip*\n",
        "!wget http://www.itl.nist.gov/iaui/vip/cs_links/EMNIST/gzip.zip\n",
        "!unzip gzip.zip"
      ],
      "execution_count": 1,
      "outputs": [
        {
          "output_type": "stream",
          "text": [
            "URL transformed to HTTPS due to an HSTS policy\r\n",
            "--2018-05-10 09:08:23--  https://www.itl.nist.gov/iaui/vip/cs_links/EMNIST/gzip.zip\n",
            "Resolving www.itl.nist.gov (www.itl.nist.gov)... 132.163.4.36, 2610:20:6b01:4::36\n",
            "Connecting to www.itl.nist.gov (www.itl.nist.gov)|132.163.4.36|:443... connected.\n",
            "HTTP request sent, awaiting response... 200 OK\n",
            "Length: 561753746 (536M) [application/zip]\n",
            "Saving to: ‘gzip.zip’\n",
            "\n",
            "gzip.zip            100%[===================>] 535.73M  65.4MB/s    in 8.7s    \n",
            "\n",
            "2018-05-10 09:08:32 (61.3 MB/s) - ‘gzip.zip’ saved [561753746/561753746]\n",
            "\n",
            "Archive:  gzip.zip\n",
            "  inflating: gzip/emnist-balanced-mapping.txt  \n",
            "  inflating: gzip/emnist-balanced-test-images-idx3-ubyte.gz  \n",
            " extracting: gzip/emnist-balanced-test-labels-idx1-ubyte.gz  \n",
            "  inflating: gzip/emnist-balanced-train-images-idx3-ubyte.gz  \n",
            "  inflating: gzip/emnist-balanced-train-labels-idx1-ubyte.gz  \n",
            "  inflating: gzip/emnist-byclass-mapping.txt  \n",
            "  inflating: gzip/emnist-byclass-test-images-idx3-ubyte.gz  \n",
            "  inflating: gzip/emnist-byclass-test-labels-idx1-ubyte.gz  \n",
            "  inflating: gzip/emnist-byclass-train-images-idx3-ubyte.gz  \n",
            "  inflating: gzip/emnist-byclass-train-labels-idx1-ubyte.gz  \n",
            "  inflating: gzip/emnist-bymerge-mapping.txt  \n",
            "  inflating: gzip/emnist-bymerge-test-images-idx3-ubyte.gz  \n",
            "  inflating: gzip/emnist-bymerge-test-labels-idx1-ubyte.gz  \n",
            "  inflating: gzip/emnist-bymerge-train-images-idx3-ubyte.gz  \n",
            "  inflating: gzip/emnist-bymerge-train-labels-idx1-ubyte.gz  \n",
            "  inflating: gzip/emnist-digits-mapping.txt  \n",
            "  inflating: gzip/emnist-digits-test-images-idx3-ubyte.gz  \n",
            "  inflating: gzip/emnist-digits-test-labels-idx1-ubyte.gz  \n",
            "  inflating: gzip/emnist-digits-train-images-idx3-ubyte.gz  \n",
            "  inflating: gzip/emnist-digits-train-labels-idx1-ubyte.gz  \n",
            "  inflating: gzip/emnist-letters-mapping.txt  \n",
            "  inflating: gzip/emnist-letters-test-images-idx3-ubyte.gz  \n",
            " extracting: gzip/emnist-letters-test-labels-idx1-ubyte.gz  \n",
            "  inflating: gzip/emnist-letters-train-images-idx3-ubyte.gz  \n",
            "  inflating: gzip/emnist-letters-train-labels-idx1-ubyte.gz  \n",
            "  inflating: gzip/emnist-mnist-mapping.txt  \n",
            "  inflating: gzip/emnist-mnist-test-images-idx3-ubyte.gz  \n",
            " extracting: gzip/emnist-mnist-test-labels-idx1-ubyte.gz  \n",
            "  inflating: gzip/emnist-mnist-train-images-idx3-ubyte.gz  \n",
            "  inflating: gzip/emnist-mnist-train-labels-idx1-ubyte.gz  \n"
          ],
          "name": "stdout"
        }
      ]
    },
    {
      "metadata": {
        "id": "_qZY3lpHiGzF",
        "colab_type": "text"
      },
      "cell_type": "markdown",
      "source": [
        "### Loading the Test and Train Data"
      ]
    },
    {
      "metadata": {
        "id": "ow-FlQUahh-B",
        "colab_type": "code",
        "colab": {
          "autoexec": {
            "startup": false,
            "wait_interval": 0
          }
        }
      },
      "cell_type": "code",
      "source": [
        "import numpy as np\n",
        "import os\n",
        "import gzip\n",
        "import random\n",
        "from collections import Counter\n",
        "def load_mnist_images(path, filename):\n",
        "    shape=(-1, 28*28)\n",
        "    filepath=path+filename\n",
        "    with gzip.open(filepath, 'rb') as f:\n",
        "        data = np.frombuffer(f.read(), np.uint8, offset=16)\n",
        "    data = data.reshape(shape)\n",
        "    return np.float32(data)\n",
        "\n",
        "def load_mnist_labels(path, filename):\n",
        "    shape=(-1, 28*28)\n",
        "\n",
        "    filepath=path+filename\n",
        "    with gzip.open(filepath, 'rb') as f:\n",
        "        data = np.frombuffer(f.read(), np.uint8, offset=8)\n",
        "    return data\n",
        "\n",
        "\n",
        "def load_mnist_dataset(path=\"./gzip/\"):\n",
        "    shape=(-1, 784)\n",
        "    # Download and read the training and test set images and labels.\n",
        "    X_train = load_mnist_images(path, 'emnist-byclass-train-images-idx3-ubyte.gz')\n",
        "    y_train = load_mnist_labels(path, 'emnist-byclass-train-labels-idx1-ubyte.gz')\n",
        "    X_test = load_mnist_images(path, 'emnist-byclass-test-images-idx3-ubyte.gz')\n",
        "    y_test = load_mnist_labels(path, 'emnist-byclass-test-labels-idx1-ubyte.gz')\n",
        "\n",
        "    # We reserve the last 10000 training examples for validation.\n",
        "    X_train, X_val = X_train[:], X_train[-10000:]\n",
        "    y_train, y_val = y_train[:], y_train[-10000:]\n",
        "\n",
        "    # We just return all the arrays in order, as expected in main().\n",
        "    X_train = np.asarray(X_train, dtype=np.float32)\n",
        "    y_train = np.asarray(y_train, dtype=np.int32)\n",
        "    X_val = np.asarray(X_val, dtype=np.float32)\n",
        "    y_val = np.asarray(y_val, dtype=np.int32)\n",
        "    X_test = np.asarray(X_test, dtype=np.float32)\n",
        "    y_test = np.asarray(y_test, dtype=np.int32)\n",
        "    y_test-=1\n",
        "    y_train-=1\n",
        "    return X_train, y_train, X_test, y_test\n",
        "\n",
        "  \n",
        "# Reading the Input  \n",
        "X_train, y_train, X_test, y_test = load_mnist_dataset('./gzip/')\n"
      ],
      "execution_count": 0,
      "outputs": []
    },
    {
      "metadata": {
        "id": "-PgriAhMiVsg",
        "colab_type": "text"
      },
      "cell_type": "markdown",
      "source": [
        "### Extracting 9 Upper Case Alphabets from the dataset and Normalizing the data"
      ]
    },
    {
      "metadata": {
        "id": "FF6Va1-DiPqI",
        "colab_type": "code",
        "colab": {
          "autoexec": {
            "startup": false,
            "wait_interval": 0
          },
          "base_uri": "https://localhost:8080/",
          "height": 275
        },
        "outputId": "5846d96d-7453-4250-c785-556a9b8c1d5e",
        "executionInfo": {
          "status": "ok",
          "timestamp": 1525943416029,
          "user_tz": -330,
          "elapsed": 8874,
          "user": {
            "displayName": "ayush gupta",
            "photoUrl": "//lh3.googleusercontent.com/-H_gav6iJTDo/AAAAAAAAAAI/AAAAAAAA9Yk/99uj7UZOMbk/s50-c-k-no/photo.jpg",
            "userId": "116069087946857344241"
          }
        }
      },
      "cell_type": "code",
      "source": [
        "# Choosing Alphabets of English Language\n",
        "charsToUse=['A','Y','U','S','H','G','P','T','R']\n",
        "indexValues= [(ord(x)-56) for x in charsToUse]\n",
        "# It should have been 55 but chose 56 to subtract due to labels starting from -1\n",
        "print(indexValues)\n",
        "# O and S have the largest number of training labels\n",
        "\n",
        "\n",
        "print('X_train.shape',X_train.shape)\n",
        "print(\"X_test.shape\",X_test.shape)\n",
        "print('y_train.shape',y_train.shape)\n",
        "print('y_test.shape',y_test.shape)\n",
        "\n",
        "\n",
        "# Concating labels to jumble them and filter them out\n",
        "y_train=y_train[:,np.newaxis]\n",
        "y_test=y_test[:,np.newaxis]\n",
        "trainConcat=np.hstack((X_train,y_train))\n",
        "testConcat=np.hstack((X_test,y_test))\n",
        "\n",
        "#Filtering the chosen alphabets\n",
        "print(\"trainConcat.shape\",trainConcat.shape)\n",
        "print(\"testConcat.shape\",testConcat.shape)\n",
        "def myfunc(row):\n",
        "    return (row[784] in indexValues)\n",
        "\n",
        "bool_arr = np.array([myfunc(row) for row in trainConcat])\n",
        "trainConcatFiltered = trainConcat[bool_arr]\n",
        "bool_arr = np.array([myfunc(row) for row in testConcat])\n",
        "testConcatFiltered = testConcat[bool_arr]\n",
        "print(\"trainConcatFiltered.shape\",trainConcatFiltered.shape)\n",
        "print(\"testConcatFiltered.shape\",testConcatFiltered.shape)\n",
        "\n",
        "\n",
        "# Separating the array and results\n",
        "train_data_rf=trainConcatFiltered[:,0:784]\n",
        "train_labels_rf=trainConcatFiltered[:,784]\n",
        "test_data_rf=testConcatFiltered[:,0:784]\n",
        "test_labels_rf=testConcatFiltered[:,784]\n",
        "print(\"train_data_rf.shape\",train_data_rf.shape)\n",
        "print(\"train_labels_rf.shape\",train_labels_rf.shape)\n",
        "print(\"test_data_rf.shape\",test_data_rf.shape)\n",
        "print(\"test_labels_rf.shape\",test_labels_rf.shape)\n",
        "\n",
        "# Normalizing the data\n",
        "mean_image = np.mean(train_data_rf, axis = 0)\n",
        "train_data_rf -= mean_image\n",
        "test_data_rf -= mean_image\n",
        "\n",
        "from sklearn.metrics import accuracy_score\n",
        "trainLabels_nn_list=Counter(train_labels_rf)\n",
        "print(\"trainLabels_nn_list:\",trainLabels_nn_list)\n",
        "counterKey=0\n",
        "labelHashDict={}\n",
        "hashLabelDict={}\n",
        "for key, value in trainLabels_nn_list.items():\n",
        "  labelHashDict[key]=counterKey\n",
        "  hashLabelDict[counterKey]=key\n",
        "  counterKey+=1"
      ],
      "execution_count": 3,
      "outputs": [
        {
          "output_type": "stream",
          "text": [
            "[9, 33, 29, 27, 16, 15, 24, 28, 26]\n",
            "('X_train.shape', (697932, 784))\n",
            "('X_test.shape', (116323, 784))\n",
            "('y_train.shape', (697932,))\n",
            "('y_test.shape', (116323,))\n",
            "('trainConcat.shape', (697932, 785))\n",
            "('testConcat.shape', (116323, 785))\n",
            "('trainConcatFiltered.shape', (73425, 785))\n",
            "('testConcatFiltered.shape', (12120, 785))\n",
            "('train_data_rf.shape', (73425, 784))\n",
            "('train_labels_rf.shape', (73425,))\n",
            "('test_data_rf.shape', (12120, 784))\n",
            "('test_labels_rf.shape', (12120,))\n",
            "('trainLabels_nn_list:', Counter({27.0: 20764, 29.0: 12602, 28.0: 9820, 24.0: 8347, 9.0: 6407, 26.0: 5073, 33.0: 4743, 16.0: 3152, 15.0: 2517}))\n"
          ],
          "name": "stdout"
        }
      ]
    },
    {
      "metadata": {
        "id": "PVd3Mnz7itm9",
        "colab_type": "text"
      },
      "cell_type": "markdown",
      "source": [
        "### Running a Two Layer Neural Network and Another Three Layer Neural Network with Relu in hidden Layer and Softmax Loss in final Layer, Using L2 regularization and SGD;  Nice accuracies are achieved in few epochs itself"
      ]
    },
    {
      "metadata": {
        "id": "DvXvRQD1Iu-e",
        "colab_type": "code",
        "colab": {
          "autoexec": {
            "startup": false,
            "wait_interval": 0
          },
          "base_uri": "https://localhost:8080/",
          "height": 585
        },
        "outputId": "49473fac-a39c-4bd9-c0d1-95f615b624a4",
        "executionInfo": {
          "status": "ok",
          "timestamp": 1525944607240,
          "user_tz": -330,
          "elapsed": 32054,
          "user": {
            "displayName": "ayush gupta",
            "photoUrl": "//lh3.googleusercontent.com/-H_gav6iJTDo/AAAAAAAAAAI/AAAAAAAA9Yk/99uj7UZOMbk/s50-c-k-no/photo.jpg",
            "userId": "116069087946857344241"
          }
        }
      },
      "cell_type": "code",
      "source": [
        "import copy\n",
        "epoch=10\n",
        "hidden_layer_nodes=[100]\n",
        "numhLayers=len(hidden_layer_nodes)\n",
        "output_classes=9\n",
        "inputSize=784\n",
        "learn_rate=0.001\n",
        "learn_rate_decay=1\n",
        "W={}\n",
        "b={}\n",
        "for i in range(numhLayers+1):\n",
        "  if(i==0):\n",
        "    W[str(i)]=np.random.randn(inputSize, hidden_layer_nodes[i]) * 0.0001\n",
        "    b[str(i)] = np.zeros(hidden_layer_nodes[i])\n",
        "  elif(i==(numhLayers)):\n",
        "    W[str(i)]=np.random.randn(hidden_layer_nodes[i-1],output_classes) * 0.0001\n",
        "    b[str(i)] = np.zeros(output_classes)\n",
        "  else:\n",
        "    W[str(i)]=np.random.randn(hidden_layer_nodes[i-1],hidden_layer_nodes[i]) * 0.0001\n",
        "    b[str(i)] = np.zeros(hidden_layer_nodes[i])\n",
        "\n",
        "epochNum=[]\n",
        "accuracy=[]    \n",
        "    \n",
        "for i in range(numhLayers+1):\n",
        "  print(\"W[\",str(i),\"].shape\",W[str(i)].shape)\n",
        "  print(\"b[\",str(i),\"].shape\",b[str(i)].shape)\n",
        "    \n",
        "    \n",
        "transformed_ynn_results=np.vectorize(labelHashDict.get)(test_labels_rf)\n",
        "\n",
        "reg_param=0.0001\n",
        "\n",
        "for abc in range(epoch):\n",
        "  # print(\"db['1']\",db['1'])\n",
        "  X_nn=train_data_rf\n",
        "  y_nn=train_labels_rf\n",
        "  batch_size=64\n",
        "  y_nn_vector=y_nn[:,np.newaxis]\n",
        "  trainConcat_nn=np.hstack((X_nn,y_nn_vector))\n",
        "  trainConcat_nn.shape\n",
        "  np.random.shuffle(trainConcat_nn)\n",
        "  \n",
        "  currentShuffledTrainData=trainConcat_nn[:,0:784]\n",
        "  currentShuffledLabelData=trainConcat_nn[:,784]\n",
        "  \n",
        "  transformed_ynn=np.vectorize(labelHashDict.get)(currentShuffledLabelData)\n",
        "  \n",
        "  \n",
        "  h_out_test={}\n",
        "  faltuVar = -1\n",
        "  h_out_test[str(faltuVar)]=test_data_rf\n",
        "  scoresTest=np.zeros((test_data_rf.shape[0],output_classes))\n",
        "  for i in range((numhLayers+1)):\n",
        "    if(i<(numhLayers)):\n",
        "      h_out_test[str(i)]=np.maximum(0,h_out_test[str(i-1)].dot(W[str(i)])+b[str(i)])\n",
        "    else:\n",
        "      scoresTest=h_out_test[str(i-1)].dot(W[str(i)])+b[str(i)]\n",
        "\n",
        "  y_pred = np.argmax(scoresTest, axis=1)\n",
        "  \n",
        "  tempAcc=accuracy_score(transformed_ynn_results, y_pred)\n",
        "  \n",
        "  print(\"Accuracy\",tempAcc)\n",
        "  \n",
        "  epochNum.append(abc)\n",
        "  accuracy.append(tempAcc)\n",
        "  \n",
        "  for t in range(0,(X_nn.shape[0]/batch_size)):\n",
        "    if ((t*batch_size)<X_nn.size):\n",
        "      X=currentShuffledTrainData[(t*batch_size):(t*batch_size)+batch_size]\n",
        "      y=transformed_ynn[(t*batch_size):(t*batch_size)+batch_size]\n",
        "      \n",
        "      h_out={}\n",
        "      h_out['-1']=X\n",
        "      for i in range((numhLayers+1)):\n",
        "        if(i<(numhLayers)):\n",
        "          h_out[str(i)]=np.maximum(0,h_out[str(i-1)].dot(W[str(i)])+b[str(i)])\n",
        "        else:\n",
        "          normal_output=h_out[str(i-1)].dot(W[str(i)])+b[str(i)]\n",
        "          #shift_scores = scores - 100\n",
        "          clipped_softmax_overflow = normal_output - np.max(normal_output, axis = 1).reshape(-1,1)\n",
        "          h_out[str(i)] = np.exp(clipped_softmax_overflow)/np.sum(np.exp(clipped_softmax_overflow), axis = 1).reshape(-1,1)\n",
        "          \n",
        "      dW={}\n",
        "      db={}\n",
        "      \n",
        "      reluDerivative=None\n",
        "      \n",
        "      for i in range((numhLayers+1)):\n",
        "        currLayer=numhLayers-i\n",
        "        if(currLayer==numhLayers):\n",
        "          changeInOutput = copy.deepcopy(h_out[str(currLayer)])\n",
        "          changeInOutput[range(batch_size), list(y)] -= 1\n",
        "          changeInOutput /= batch_size\n",
        "          dW[str(currLayer)]=h_out[str(currLayer-1)].T.dot(changeInOutput) + reg_param * W[str(currLayer)]\n",
        "          db[str(currLayer)]=np.sum(changeInOutput, axis = 0)\n",
        "          reluDerivative=changeInOutput\n",
        "        else:\n",
        "          # print(\"currLayer\",currLayer)\n",
        "          dh = reluDerivative.dot(W[str(currLayer+1)].T)\n",
        "          reluDerivative = (h_out[str(currLayer)] > 0) * dh\n",
        "          dW[str(currLayer)]= h_out[str(currLayer-1)].T.dot(reluDerivative)+ reg_param * W[str(currLayer)]\n",
        "          db[str(currLayer)]= np.sum(reluDerivative, axis = 0)\n",
        "         \n",
        "      for i in range(numhLayers+1):\n",
        "        W[str(i)] = W[str(i)] - learn_rate * dW[str(i)]\n",
        "        b[str(i)] = b[str(i)] - learn_rate * db[str(i)]\n",
        "      learn_rate = learn_rate * learn_rate_decay\n",
        "  \n",
        "  \n",
        "  \n",
        "import matplotlib.pyplot as plt\n",
        "plt.plot(epochNum, accuracy, '-o')\n",
        "# plt.axis([0, 6, 0, 20])\n",
        "plt.show()"
      ],
      "execution_count": 16,
      "outputs": [
        {
          "output_type": "stream",
          "text": [
            "('W[', '0', '].shape', (784, 100))\n",
            "('b[', '0', '].shape', (100,))\n",
            "('W[', '1', '].shape', (100, 9))\n",
            "('b[', '1', '].shape', (9,))\n",
            "('Accuracy', 0.23432343234323433)\n",
            "('Accuracy', 0.9542079207920792)\n",
            "('Accuracy', 0.9693894389438944)\n",
            "('Accuracy', 0.9751650165016502)\n",
            "('Accuracy', 0.9780528052805281)\n",
            "('Accuracy', 0.9799504950495049)\n",
            "('Accuracy', 0.9807755775577558)\n",
            "('Accuracy', 0.9826732673267327)\n",
            "('Accuracy', 0.9817656765676568)\n",
            "('Accuracy', 0.9825907590759075)\n"
          ],
          "name": "stdout"
        },
        {
          "output_type": "display_data",
          "data": {
            "image/png": "[encoded data removed]",
            "text/plain": [
              "<matplotlib.figure.Figure at 0x7ff8c0e23710>"
            ]
          },
          "metadata": {
            "tags": []
          }
        }
      ]
    },
    {
      "metadata": {
        "id": "oRbBr68wY5G-",
        "colab_type": "code",
        "colab": {
          "autoexec": {
            "startup": false,
            "wait_interval": 0
          },
          "base_uri": "https://localhost:8080/",
          "height": 619
        },
        "outputId": "e48bb1ba-d7e5-44b2-86e9-070f3c330ba0",
        "executionInfo": {
          "status": "ok",
          "timestamp": 1525944731740,
          "user_tz": -330,
          "elapsed": 32499,
          "user": {
            "displayName": "ayush gupta",
            "photoUrl": "//lh3.googleusercontent.com/-H_gav6iJTDo/AAAAAAAAAAI/AAAAAAAA9Yk/99uj7UZOMbk/s50-c-k-no/photo.jpg",
            "userId": "116069087946857344241"
          }
        }
      },
      "cell_type": "code",
      "source": [
        "import copy\n",
        "epoch=10\n",
        "hidden_layer_nodes=[100,50]\n",
        "numhLayers=len(hidden_layer_nodes)\n",
        "output_classes=9\n",
        "inputSize=784\n",
        "learn_rate=0.005\n",
        "learn_rate_decay=1\n",
        "W={}\n",
        "b={}\n",
        "for i in range(numhLayers+1):\n",
        "  if(i==0):\n",
        "    W[str(i)]=np.random.randn(inputSize, hidden_layer_nodes[i]) * 0.0001\n",
        "    b[str(i)] = np.zeros(hidden_layer_nodes[i])\n",
        "  elif(i==(numhLayers)):\n",
        "    W[str(i)]=np.random.randn(hidden_layer_nodes[i-1],output_classes) * 0.0001\n",
        "    b[str(i)] = np.zeros(output_classes)\n",
        "  else:\n",
        "    W[str(i)]=np.random.randn(hidden_layer_nodes[i-1],hidden_layer_nodes[i]) * 0.0001\n",
        "    b[str(i)] = np.zeros(hidden_layer_nodes[i])\n",
        "\n",
        "epochNum=[]\n",
        "accuracy=[]    \n",
        "    \n",
        "for i in range(numhLayers+1):\n",
        "  print(\"W[\",str(i),\"].shape\",W[str(i)].shape)\n",
        "  print(\"b[\",str(i),\"].shape\",b[str(i)].shape)\n",
        "    \n",
        "    \n",
        "transformed_ynn_results=np.vectorize(labelHashDict.get)(test_labels_rf)\n",
        "\n",
        "reg_param=0.0001\n",
        "\n",
        "for abc in range(epoch):\n",
        "  # print(\"db['1']\",db['1'])\n",
        "  X_nn=train_data_rf\n",
        "  y_nn=train_labels_rf\n",
        "  batch_size=64\n",
        "  y_nn_vector=y_nn[:,np.newaxis]\n",
        "  trainConcat_nn=np.hstack((X_nn,y_nn_vector))\n",
        "  trainConcat_nn.shape\n",
        "  np.random.shuffle(trainConcat_nn)\n",
        "  \n",
        "  currentShuffledTrainData=trainConcat_nn[:,0:784]\n",
        "  currentShuffledLabelData=trainConcat_nn[:,784]\n",
        "  \n",
        "  transformed_ynn=np.vectorize(labelHashDict.get)(currentShuffledLabelData)\n",
        "  \n",
        "  \n",
        "  h_out_test={}\n",
        "  faltuVar = -1\n",
        "  h_out_test[str(faltuVar)]=test_data_rf\n",
        "  scoresTest=np.zeros((test_data_rf.shape[0],output_classes))\n",
        "  for i in range((numhLayers+1)):\n",
        "    if(i<(numhLayers)):\n",
        "      h_out_test[str(i)]=np.maximum(0,h_out_test[str(i-1)].dot(W[str(i)])+b[str(i)])\n",
        "    else:\n",
        "      scoresTest=h_out_test[str(i-1)].dot(W[str(i)])+b[str(i)]\n",
        "\n",
        "  y_pred = np.argmax(scoresTest, axis=1)\n",
        "  \n",
        "  tempAcc=accuracy_score(transformed_ynn_results, y_pred)\n",
        "  \n",
        "  print(\"Accuracy\",tempAcc)\n",
        "  \n",
        "  epochNum.append(abc)\n",
        "  accuracy.append(tempAcc)\n",
        "  \n",
        "  for t in range(0,(X_nn.shape[0]/batch_size)):\n",
        "    if ((t*batch_size)<X_nn.size):\n",
        "      X=currentShuffledTrainData[(t*batch_size):(t*batch_size)+batch_size]\n",
        "      y=transformed_ynn[(t*batch_size):(t*batch_size)+batch_size]\n",
        "      \n",
        "      h_out={}\n",
        "      h_out['-1']=X\n",
        "      for i in range((numhLayers+1)):\n",
        "        if(i<(numhLayers)):\n",
        "          h_out[str(i)]=np.maximum(0,h_out[str(i-1)].dot(W[str(i)])+b[str(i)])\n",
        "        else:\n",
        "          normal_output=h_out[str(i-1)].dot(W[str(i)])+b[str(i)]\n",
        "          #shift_scores = scores - 100\n",
        "          clipped_softmax_overflow = normal_output - np.max(normal_output, axis = 1).reshape(-1,1)\n",
        "          h_out[str(i)] = np.exp(clipped_softmax_overflow)/np.sum(np.exp(clipped_softmax_overflow), axis = 1).reshape(-1,1)\n",
        "          \n",
        "      dW={}\n",
        "      db={}\n",
        "      \n",
        "      reluDerivative=None\n",
        "      \n",
        "      for i in range((numhLayers+1)):\n",
        "        currLayer=numhLayers-i\n",
        "        if(currLayer==numhLayers):\n",
        "          changeInOutput = copy.deepcopy(h_out[str(currLayer)])\n",
        "          changeInOutput[range(batch_size), list(y)] -= 1\n",
        "          changeInOutput /= batch_size\n",
        "          dW[str(currLayer)]=h_out[str(currLayer-1)].T.dot(changeInOutput) + reg_param * W[str(currLayer)]\n",
        "          db[str(currLayer)]=np.sum(changeInOutput, axis = 0)\n",
        "          reluDerivative=changeInOutput\n",
        "        else:\n",
        "          # print(\"currLayer\",currLayer)\n",
        "          dh = reluDerivative.dot(W[str(currLayer+1)].T)\n",
        "          reluDerivative = (h_out[str(currLayer)] > 0) * dh\n",
        "          dW[str(currLayer)]= h_out[str(currLayer-1)].T.dot(reluDerivative)+ reg_param * W[str(currLayer)]\n",
        "          db[str(currLayer)]= np.sum(reluDerivative, axis = 0)\n",
        "         \n",
        "      for i in range(numhLayers+1):\n",
        "        W[str(i)] = W[str(i)] - learn_rate * dW[str(i)]\n",
        "        b[str(i)] = b[str(i)] - learn_rate * db[str(i)]\n",
        "      learn_rate = learn_rate * learn_rate_decay\n",
        "  \n",
        "  \n",
        "  \n",
        "import matplotlib.pyplot as plt\n",
        "plt.plot(epochNum, accuracy, '-o')\n",
        "# plt.axis([0, 6, 0, 20])\n",
        "plt.show()"
      ],
      "execution_count": 18,
      "outputs": [
        {
          "output_type": "stream",
          "text": [
            "('W[', '0', '].shape', (784, 100))\n",
            "('b[', '0', '].shape', (100,))\n",
            "('W[', '1', '].shape', (100, 50))\n",
            "('b[', '1', '].shape', (50,))\n",
            "('W[', '2', '].shape', (50, 9))\n",
            "('b[', '2', '].shape', (9,))\n",
            "('Accuracy', 0.09438943894389439)\n",
            "('Accuracy', 0.28943894389438946)\n",
            "('Accuracy', 0.28943894389438946)\n",
            "('Accuracy', 0.9384488448844884)\n",
            "('Accuracy', 0.9646864686468647)\n",
            "('Accuracy', 0.9736798679867987)\n",
            "('Accuracy', 0.9755775577557756)\n",
            "('Accuracy', 0.9763201320132013)\n",
            "('Accuracy', 0.9756600660066007)\n",
            "('Accuracy', 0.976980198019802)\n"
          ],
          "name": "stdout"
        },
        {
          "output_type": "display_data",
          "data": {
            "image/png": "[encoded data removed]",
            "text/plain": [
              "<matplotlib.figure.Figure at 0x7ff8beddbd90>"
            ]
          },
          "metadata": {
            "tags": []
          }
        }
      ]
    },
    {
      "metadata": {
        "id": "lohASNVlkH7S",
        "colab_type": "text"
      },
      "cell_type": "markdown",
      "source": [
        "### Checking accuracies and fusion table with Random Forest"
      ]
    },
    {
      "metadata": {
        "id": "h6WWkCYGj1ta",
        "colab_type": "code",
        "colab": {
          "autoexec": {
            "startup": false,
            "wait_interval": 0
          },
          "base_uri": "https://localhost:8080/",
          "height": 1464
        },
        "outputId": "23b614f6-b5c1-484e-be74-575e8c30515d",
        "executionInfo": {
          "status": "ok",
          "timestamp": 1525897549203,
          "user_tz": -330,
          "elapsed": 116295,
          "user": {
            "displayName": "ayush gupta",
            "photoUrl": "//lh3.googleusercontent.com/-H_gav6iJTDo/AAAAAAAAAAI/AAAAAAAA9Yk/99uj7UZOMbk/s50-c-k-no/photo.jpg",
            "userId": "116069087946857344241"
          }
        }
      },
      "cell_type": "code",
      "source": [
        "from sklearn.ensemble import RandomForestClassifier\n",
        "rf = RandomForestClassifier(n_estimators=100)\n",
        "rf.fit(train_data_rf, train_labels_rf)\n",
        "results = rf.predict(test_data_rf)\n",
        "from sklearn.metrics import confusion_matrix\n",
        "from itertools import product\n",
        "import matplotlib.pyplot as plt\n",
        "def plot_confusion_matrix(cm, classes,\n",
        "                          normalize=False,\n",
        "                          title='Confusion matrix',\n",
        "                          cmap=plt.cm.Blues):\n",
        "    \"\"\"\n",
        "    This function prints and plots the confusion matrix.\n",
        "    Normalization can be applied by setting normalize=True.\n",
        "    \"\"\"\n",
        "    if normalize:\n",
        "        cm = cm.astype('float') / cm.sum(axis=1)[:, np.newaxis]\n",
        "        print(\"Normalized confusion matrix\")\n",
        "    else:\n",
        "        print('Confusion matrix, without normalization')\n",
        "\n",
        "    print(cm)\n",
        "\n",
        "    plt.imshow(cm, interpolation='nearest', cmap=cmap)\n",
        "    plt.title(title)\n",
        "    plt.colorbar()\n",
        "    tick_marks = np.arange(len(classes))\n",
        "    plt.xticks(tick_marks, classes, rotation=45)\n",
        "    plt.yticks(tick_marks, classes)\n",
        "\n",
        "    fmt = '.2f' if normalize else 'd'\n",
        "    thresh = cm.max() / 2.\n",
        "    for i, j in product(range(cm.shape[0]), range(cm.shape[1])):\n",
        "        plt.text(j, i, format(cm[i, j], fmt),\n",
        "                 horizontalalignment=\"center\",\n",
        "                 color=\"white\" if cm[i, j] > thresh else \"black\")\n",
        "\n",
        "    plt.tight_layout()\n",
        "    plt.ylabel('True label')\n",
        "    plt.xlabel('Predicted label')\n",
        "    \n",
        "cnf_matrix = confusion_matrix(test_labels_rf, results)\n",
        "class_names=[]\n",
        "plt.figure()\n",
        "plot_confusion_matrix(cnf_matrix, classes=class_names,title='Confusion matrix, without normalization')\n",
        "\n",
        "# Plot normalized confusion matrix\n",
        "plt.figure()\n",
        "plot_confusion_matrix(cnf_matrix, classes=class_names, normalize=True,title='Normalized confusion matrix')\n",
        "\n",
        "\n",
        "from sklearn.metrics import accuracy_score\n",
        "print(\"Accuracy\",accuracy_score(test_labels_rf, results))"
      ],
      "execution_count": 7,
      "outputs": [
        {
          "output_type": "stream",
          "text": [
            "Confusion matrix, without normalization\n",
            "[[1035    2    7    0    8    2    0    5    3]\n",
            " [   4  403    0    4    0   27    1    8    0]\n",
            " [  37    1  466    0    0    1    0   14    2]\n",
            " [  10    0    0 1374    1    1    3    5    3]\n",
            " [  35    0    1    9  759    1    0    4    0]\n",
            " [   2    2    1    2    2 3492    4    3    0]\n",
            " [   2    0    0    6    0    2 1557    1    8]\n",
            " [   3    3    3    1    5    6    0 1979    2]\n",
            " [   0    0    2    5    0   18   10    6  757]]\n",
            "Normalized confusion matrix\n",
            "[[9.74576271e-01 1.88323917e-03 6.59133710e-03 0.00000000e+00\n",
            "  7.53295669e-03 1.88323917e-03 0.00000000e+00 4.70809793e-03\n",
            "  2.82485876e-03]\n",
            " [8.94854586e-03 9.01565996e-01 0.00000000e+00 8.94854586e-03\n",
            "  0.00000000e+00 6.04026846e-02 2.23713647e-03 1.78970917e-02\n",
            "  0.00000000e+00]\n",
            " [7.10172745e-02 1.91938580e-03 8.94433781e-01 0.00000000e+00\n",
            "  0.00000000e+00 1.91938580e-03 0.00000000e+00 2.68714012e-02\n",
            "  3.83877159e-03]\n",
            " [7.15819613e-03 0.00000000e+00 0.00000000e+00 9.83536149e-01\n",
            "  7.15819613e-04 7.15819613e-04 2.14745884e-03 3.57909807e-03\n",
            "  2.14745884e-03]\n",
            " [4.32632880e-02 0.00000000e+00 1.23609394e-03 1.11248455e-02\n",
            "  9.38195303e-01 1.23609394e-03 0.00000000e+00 4.94437577e-03\n",
            "  0.00000000e+00]\n",
            " [5.70125428e-04 5.70125428e-04 2.85062714e-04 5.70125428e-04\n",
            "  5.70125428e-04 9.95438997e-01 1.14025086e-03 8.55188141e-04\n",
            "  0.00000000e+00]\n",
            " [1.26903553e-03 0.00000000e+00 0.00000000e+00 3.80710660e-03\n",
            "  0.00000000e+00 1.26903553e-03 9.87944162e-01 6.34517766e-04\n",
            "  5.07614213e-03]\n",
            " [1.49850150e-03 1.49850150e-03 1.49850150e-03 4.99500500e-04\n",
            "  2.49750250e-03 2.99700300e-03 0.00000000e+00 9.88511489e-01\n",
            "  9.99000999e-04]\n",
            " [0.00000000e+00 0.00000000e+00 2.50626566e-03 6.26566416e-03\n",
            "  0.00000000e+00 2.25563910e-02 1.25313283e-02 7.51879699e-03\n",
            "  9.48621554e-01]]\n",
            "('Accuracy', 0.9754125412541255)\n"
          ],
          "name": "stdout"
        },
        {
          "output_type": "display_data",
          "data": {
            "image/png": "[encoded data removed]",
            "text/plain": [
              "<matplotlib.figure.Figure at 0x7f45f0a27d10>"
            ]
          },
          "metadata": {
            "tags": []
          }
        },
        {
          "output_type": "display_data",
          "data": {
            "image/png": "[encoded data removed]",
            "text/plain": [
              "<matplotlib.figure.Figure at 0x7f45f0a05090>"
            ]
          },
          "metadata": {
            "tags": []
          }
        }
      ]
    }
  ]
}