{
  "nbformat": 4,
  "nbformat_minor": 0,
  "metadata": {
    "colab": {
      "name": "deepLearningAssignment1.ipynb",
      "version": "0.3.2",
      "views": {},
      "default_view": {},
      "provenance": []
    },
    "kernelspec": {
      "name": "python2",
      "display_name": "Python 2"
    }
  },
  "cells": [
    {
      "metadata": {
        "id": "gzs-3eRuh8QF",
        "colab_type": "text"
      },
      "cell_type": "markdown",
      "source": [
        "### Downloading and Unzipping the dataset"
      ]
    },
    {
      "metadata": {
        "id": "GgdCdCO_hsRx",
        "colab_type": "code",
        "colab": {
          "autoexec": {
            "startup": false,
            "wait_interval": 0
          },
          "base_uri": "https://localhost:8080/",
          "height": 748
        },
        "outputId": "5cb28edd-dc63-4ad4-8823-bee97e7a1516",
        "executionInfo": {
          "status": "ok",
          "timestamp": 1525897354958,
          "user_tz": -330,
          "elapsed": 45025,
          "user": {
            "displayName": "ayush gupta",
            "photoUrl": "//lh3.googleusercontent.com/-H_gav6iJTDo/AAAAAAAAAAI/AAAAAAAA9Yk/99uj7UZOMbk/s50-c-k-no/photo.jpg",
            "userId": "116069087946857344241"
          }
        }
      },
      "cell_type": "code",
      "source": [
        "!rm -rf gzip*\n",
        "!wget http://www.itl.nist.gov/iaui/vip/cs_links/EMNIST/gzip.zip\n",
        "!unzip gzip.zip"
      ],
      "execution_count": 3,
      "outputs": [
        {
          "output_type": "stream",
          "text": [
            "URL transformed to HTTPS due to an HSTS policy\r\n",
            "--2018-05-09 20:21:52--  https://www.itl.nist.gov/iaui/vip/cs_links/EMNIST/gzip.zip\n",
            "Resolving www.itl.nist.gov (www.itl.nist.gov)... 132.163.4.36, 2610:20:6b01:4::36\n",
            "Connecting to www.itl.nist.gov (www.itl.nist.gov)|132.163.4.36|:443... connected.\n",
            "HTTP request sent, awaiting response... 200 OK\n",
            "Length: 561753746 (536M) [application/zip]\n",
            "Saving to: ‘gzip.zip’\n",
            "\n",
            "gzip.zip            100%[===================>] 535.73M  45.6MB/s    in 15s     \n",
            "\n",
            "2018-05-09 20:22:08 (35.7 MB/s) - ‘gzip.zip’ saved [561753746/561753746]\n",
            "\n",
            "Archive:  gzip.zip\n",
            "  inflating: gzip/emnist-balanced-mapping.txt  \n",
            "  inflating: gzip/emnist-balanced-test-images-idx3-ubyte.gz  \n",
            " extracting: gzip/emnist-balanced-test-labels-idx1-ubyte.gz  \n",
            "  inflating: gzip/emnist-balanced-train-images-idx3-ubyte.gz  \n",
            "  inflating: gzip/emnist-balanced-train-labels-idx1-ubyte.gz  \n",
            "  inflating: gzip/emnist-byclass-mapping.txt  \n",
            "  inflating: gzip/emnist-byclass-test-images-idx3-ubyte.gz  \n",
            "  inflating: gzip/emnist-byclass-test-labels-idx1-ubyte.gz  \n",
            "  inflating: gzip/emnist-byclass-train-images-idx3-ubyte.gz  \n",
            "  inflating: gzip/emnist-byclass-train-labels-idx1-ubyte.gz  \n",
            "  inflating: gzip/emnist-bymerge-mapping.txt  \n",
            "  inflating: gzip/emnist-bymerge-test-images-idx3-ubyte.gz  \n",
            "  inflating: gzip/emnist-bymerge-test-labels-idx1-ubyte.gz  \n",
            "  inflating: gzip/emnist-bymerge-train-images-idx3-ubyte.gz  \n",
            "  inflating: gzip/emnist-bymerge-train-labels-idx1-ubyte.gz  \n",
            "  inflating: gzip/emnist-digits-mapping.txt  \n",
            "  inflating: gzip/emnist-digits-test-images-idx3-ubyte.gz  \n",
            "  inflating: gzip/emnist-digits-test-labels-idx1-ubyte.gz  \n",
            "  inflating: gzip/emnist-digits-train-images-idx3-ubyte.gz  \n",
            "  inflating: gzip/emnist-digits-train-labels-idx1-ubyte.gz  \n",
            "  inflating: gzip/emnist-letters-mapping.txt  \n",
            "  inflating: gzip/emnist-letters-test-images-idx3-ubyte.gz  \n",
            " extracting: gzip/emnist-letters-test-labels-idx1-ubyte.gz  \n",
            "  inflating: gzip/emnist-letters-train-images-idx3-ubyte.gz  \n",
            "  inflating: gzip/emnist-letters-train-labels-idx1-ubyte.gz  \n",
            "  inflating: gzip/emnist-mnist-mapping.txt  \n",
            "  inflating: gzip/emnist-mnist-test-images-idx3-ubyte.gz  \n",
            " extracting: gzip/emnist-mnist-test-labels-idx1-ubyte.gz  \n",
            "  inflating: gzip/emnist-mnist-train-images-idx3-ubyte.gz  \n",
            "  inflating: gzip/emnist-mnist-train-labels-idx1-ubyte.gz  \n"
          ],
          "name": "stdout"
        }
      ]
    },
    {
      "metadata": {
        "id": "_qZY3lpHiGzF",
        "colab_type": "text"
      },
      "cell_type": "markdown",
      "source": [
        "### Loading the Test and Train Data"
      ]
    },
    {
      "metadata": {
        "id": "ow-FlQUahh-B",
        "colab_type": "code",
        "colab": {
          "autoexec": {
            "startup": false,
            "wait_interval": 0
          }
        }
      },
      "cell_type": "code",
      "source": [
        "import numpy as np\n",
        "import os\n",
        "import gzip\n",
        "import random\n",
        "from collections import Counter\n",
        "def load_mnist_images(path, filename):\n",
        "    shape=(-1, 28*28)\n",
        "    filepath=path+filename\n",
        "    with gzip.open(filepath, 'rb') as f:\n",
        "        data = np.frombuffer(f.read(), np.uint8, offset=16)\n",
        "    data = data.reshape(shape)\n",
        "    return np.float32(data)\n",
        "\n",
        "def load_mnist_labels(path, filename):\n",
        "    shape=(-1, 28*28)\n",
        "\n",
        "    filepath=path+filename\n",
        "    with gzip.open(filepath, 'rb') as f:\n",
        "        data = np.frombuffer(f.read(), np.uint8, offset=8)\n",
        "    return data\n",
        "\n",
        "\n",
        "def load_mnist_dataset(path=\"./gzip/\"):\n",
        "    shape=(-1, 784)\n",
        "    # Download and read the training and test set images and labels.\n",
        "    X_train = load_mnist_images(path, 'emnist-byclass-train-images-idx3-ubyte.gz')\n",
        "    y_train = load_mnist_labels(path, 'emnist-byclass-train-labels-idx1-ubyte.gz')\n",
        "    X_test = load_mnist_images(path, 'emnist-byclass-test-images-idx3-ubyte.gz')\n",
        "    y_test = load_mnist_labels(path, 'emnist-byclass-test-labels-idx1-ubyte.gz')\n",
        "\n",
        "    # We reserve the last 10000 training examples for validation.\n",
        "    X_train, X_val = X_train[:], X_train[-10000:]\n",
        "    y_train, y_val = y_train[:], y_train[-10000:]\n",
        "\n",
        "    # We just return all the arrays in order, as expected in main().\n",
        "    X_train = np.asarray(X_train, dtype=np.float32)\n",
        "    y_train = np.asarray(y_train, dtype=np.int32)\n",
        "    X_val = np.asarray(X_val, dtype=np.float32)\n",
        "    y_val = np.asarray(y_val, dtype=np.int32)\n",
        "    X_test = np.asarray(X_test, dtype=np.float32)\n",
        "    y_test = np.asarray(y_test, dtype=np.int32)\n",
        "    y_test-=1\n",
        "    y_train-=1\n",
        "    return X_train, y_train, X_test, y_test\n",
        "\n",
        "  \n",
        "# Reading the Input  \n",
        "X_train, y_train, X_test, y_test = load_mnist_dataset('./gzip/')\n"
      ],
      "execution_count": 0,
      "outputs": []
    },
    {
      "metadata": {
        "id": "-PgriAhMiVsg",
        "colab_type": "text"
      },
      "cell_type": "markdown",
      "source": [
        "### Extracting 9 Upper Case Alphabets from the dataset and Normalizing the data"
      ]
    },
    {
      "metadata": {
        "id": "FF6Va1-DiPqI",
        "colab_type": "code",
        "colab": {
          "autoexec": {
            "startup": false,
            "wait_interval": 0
          },
          "base_uri": "https://localhost:8080/",
          "height": 275
        },
        "outputId": "b1b4d9f2-0f6e-44ea-e922-9d53878b5034",
        "executionInfo": {
          "status": "ok",
          "timestamp": 1525897386874,
          "user_tz": -330,
          "elapsed": 10031,
          "user": {
            "displayName": "ayush gupta",
            "photoUrl": "//lh3.googleusercontent.com/-H_gav6iJTDo/AAAAAAAAAAI/AAAAAAAA9Yk/99uj7UZOMbk/s50-c-k-no/photo.jpg",
            "userId": "116069087946857344241"
          }
        }
      },
      "cell_type": "code",
      "source": [
        "# Choosing Alphabets of English Language\n",
        "charsToUse=['A','Y','U','S','H','G','P','T','R']\n",
        "indexValues= [(ord(x)-56) for x in charsToUse]\n",
        "# It should have been 55 but chose 56 to subtract due to labels starting from -1\n",
        "print(indexValues)\n",
        "# O and S have the largest number of training labels\n",
        "\n",
        "\n",
        "print('X_train.shape',X_train.shape)\n",
        "print(\"X_test.shape\",X_test.shape)\n",
        "print('y_train.shape',y_train.shape)\n",
        "print('y_test.shape',y_test.shape)\n",
        "\n",
        "\n",
        "# Concating labels to jumble them and filter them out\n",
        "y_train=y_train[:,np.newaxis]\n",
        "y_test=y_test[:,np.newaxis]\n",
        "trainConcat=np.hstack((X_train,y_train))\n",
        "testConcat=np.hstack((X_test,y_test))\n",
        "\n",
        "#Filtering the chosen alphabets\n",
        "print(\"trainConcat.shape\",trainConcat.shape)\n",
        "print(\"testConcat.shape\",testConcat.shape)\n",
        "def myfunc(row):\n",
        "    return (row[784] in indexValues)\n",
        "\n",
        "bool_arr = np.array([myfunc(row) for row in trainConcat])\n",
        "trainConcatFiltered = trainConcat[bool_arr]\n",
        "bool_arr = np.array([myfunc(row) for row in testConcat])\n",
        "testConcatFiltered = testConcat[bool_arr]\n",
        "print(\"trainConcatFiltered.shape\",trainConcatFiltered.shape)\n",
        "print(\"testConcatFiltered.shape\",testConcatFiltered.shape)\n",
        "\n",
        "\n",
        "# Separating the array and results\n",
        "train_data_rf=trainConcatFiltered[:,0:784]\n",
        "train_labels_rf=trainConcatFiltered[:,784]\n",
        "test_data_rf=testConcatFiltered[:,0:784]\n",
        "test_labels_rf=testConcatFiltered[:,784]\n",
        "print(\"train_data_rf.shape\",train_data_rf.shape)\n",
        "print(\"train_labels_rf.shape\",train_labels_rf.shape)\n",
        "print(\"test_data_rf.shape\",test_data_rf.shape)\n",
        "print(\"test_labels_rf.shape\",test_labels_rf.shape)\n",
        "\n",
        "# Normalizing the data\n",
        "mean_image = np.mean(train_data_rf, axis = 0)\n",
        "train_data_rf -= mean_image\n",
        "test_data_rf -= mean_image\n",
        "\n",
        "from sklearn.metrics import accuracy_score\n",
        "trainLabels_nn_list=Counter(train_labels_rf)\n",
        "print(\"trainLabels_nn_list:\",trainLabels_nn_list)\n",
        "counterKey=0\n",
        "labelHashDict={}\n",
        "hashLabelDict={}\n",
        "for key, value in trainLabels_nn_list.items():\n",
        "  labelHashDict[key]=counterKey\n",
        "  hashLabelDict[counterKey]=key\n",
        "  counterKey+=1"
      ],
      "execution_count": 5,
      "outputs": [
        {
          "output_type": "stream",
          "text": [
            "[9, 33, 29, 27, 16, 15, 24, 28, 26]\n",
            "('X_train.shape', (697932, 784))\n",
            "('X_test.shape', (116323, 784))\n",
            "('y_train.shape', (697932,))\n",
            "('y_test.shape', (116323,))\n",
            "('trainConcat.shape', (697932, 785))\n",
            "('testConcat.shape', (116323, 785))\n",
            "('trainConcatFiltered.shape', (73425, 785))\n",
            "('testConcatFiltered.shape', (12120, 785))\n",
            "('train_data_rf.shape', (73425, 784))\n",
            "('train_labels_rf.shape', (73425,))\n",
            "('test_data_rf.shape', (12120, 784))\n",
            "('test_labels_rf.shape', (12120,))\n",
            "('trainLabels_nn_list:', Counter({27.0: 20764, 29.0: 12602, 28.0: 9820, 24.0: 8347, 9.0: 6407, 26.0: 5073, 33.0: 4743, 16.0: 3152, 15.0: 2517}))\n"
          ],
          "name": "stdout"
        }
      ]
    },
    {
      "metadata": {
        "id": "PVd3Mnz7itm9",
        "colab_type": "text"
      },
      "cell_type": "markdown",
      "source": [
        "### Running a Two Layer Neural Network with Relu in hidden Layer and Softmax Loss in final Layer, Using L2 regularization and SGD;  Nice accuracies are achieved in few epochs itself"
      ]
    },
    {
      "metadata": {
        "id": "npyvnhr5ix3-",
        "colab_type": "code",
        "colab": {
          "autoexec": {
            "startup": false,
            "wait_interval": 0
          },
          "base_uri": "https://localhost:8080/",
          "height": 687
        },
        "outputId": "27efb250-9956-4db6-c59a-098be826e6d0",
        "executionInfo": {
          "status": "ok",
          "timestamp": 1525898802438,
          "user_tz": -330,
          "elapsed": 22357,
          "user": {
            "displayName": "ayush gupta",
            "photoUrl": "//lh3.googleusercontent.com/-H_gav6iJTDo/AAAAAAAAAAI/AAAAAAAA9Yk/99uj7UZOMbk/s50-c-k-no/photo.jpg",
            "userId": "116069087946857344241"
          }
        }
      },
      "cell_type": "code",
      "source": [
        "import copy\n",
        "epoch=10\n",
        "hidden_layer_nodes=50\n",
        "output_classes=9\n",
        "inputSize=784\n",
        "learn_rate=0.001\n",
        "learn_rate_decay=1\n",
        "W1 = np.random.randn(inputSize, hidden_layer_nodes) * 0.0001\n",
        "b1 = np.zeros(hidden_layer_nodes)\n",
        "W2 = np.random.randn(hidden_layer_nodes, output_classes) * 0.0001\n",
        "b2 = np.zeros(output_classes)\n",
        "transformed_ynn_results=np.vectorize(labelHashDict.get)(test_labels_rf)\n",
        "\n",
        "reg_param=0.0001\n",
        "\n",
        "epochNum=[]\n",
        "accuracy=[]\n",
        "\n",
        "\n",
        "for i in range(epoch):\n",
        "  X_nn=train_data_rf\n",
        "  y_nn=train_labels_rf\n",
        "  batch_size=64\n",
        "  y_nn_vector=y_nn[:,np.newaxis]\n",
        "  trainConcat_nn=np.hstack((X_nn,y_nn_vector))\n",
        "  trainConcat_nn.shape\n",
        "  np.random.shuffle(trainConcat_nn)\n",
        "  \n",
        "  currentShuffledTrainData=trainConcat_nn[:,0:784]\n",
        "  currentShuffledLabelData=trainConcat_nn[:,784]\n",
        "  \n",
        "  transformed_ynn=np.vectorize(labelHashDict.get)(currentShuffledLabelData)\n",
        "  h = np.maximum(0, test_data_rf.dot(W1) + b1)\n",
        "  scores = h.dot(W2) + b2\n",
        "  y_pred = np.argmax(scores, axis=1)\n",
        "  \n",
        "  tempAcc=accuracy_score(transformed_ynn_results, y_pred)\n",
        "  print(\"Accuracy\",tempAcc)\n",
        "  epochNum.append(i)\n",
        "  accuracy.append(tempAcc)\n",
        "  \n",
        "  print(\"i\",i)\n",
        "  for t in range(0,(X_nn.shape[0]/batch_size)):\n",
        "    if ((t*batch_size)<X_nn.size):\n",
        "      X=currentShuffledTrainData[(t*batch_size):(t*batch_size)+batch_size]\n",
        "      y=transformed_ynn[(t*batch_size):(t*batch_size)+batch_size]\n",
        "      h_output = np.maximum(0, X.dot(W1) + b1)\n",
        "      normal_output = h_output.dot(W2) + b2\n",
        "      normal_output_minus_max = normal_output - np.max(normal_output, axis = 1).reshape(-1,1)\n",
        "      after_softmax = np.exp(normal_output_minus_max)/np.sum(np.exp(normal_output_minus_max), axis = 1).reshape(-1,1)\n",
        "      changeInOutput = copy.deepcopy(after_softmax)\n",
        "      changeInOutput[range(batch_size), list(y)] -= 1\n",
        "      changeInOutput = changeInOutput/batch_size\n",
        "      delta_W2 = h_output.T.dot(changeInOutput) + reg_param * W2\n",
        "      delta_b2 = np.sum(changeInOutput, axis = 0)\n",
        "      dh = changeInOutput.dot(W2.T)\n",
        "      filtered_delta_h = (h_output > 0) * dh\n",
        "      delta_W1 = X.T.dot(filtered_delta_h) + reg_param * W1\n",
        "      delta_b1 = np.sum(filtered_delta_h, axis = 0)\n",
        "                        \n",
        "      #loss, grad = loss_two_layer(X,y,0.0,W1,W2,b1,b2)\n",
        "      W1 = W1 - learn_rate * delta_W1\n",
        "      W2 = W2 - learn_rate * delta_W2\n",
        "      b1 = b1 - learn_rate * delta_b1\n",
        "      b2 = b2 - learn_rate * delta_b2\n",
        "      \n",
        "      learn_rate = learn_rate * learn_rate_decay\n",
        "      \n",
        "      \n",
        "      \n",
        "\n",
        "import matplotlib.pyplot as plt\n",
        "plt.plot(epochNum, accuracy, '-o')\n",
        "# plt.axis([0, 6, 0, 20])\n",
        "plt.show()"
      ],
      "execution_count": 11,
      "outputs": [
        {
          "output_type": "stream",
          "text": [
            "('Accuracy', 0.08638613861386138)\n",
            "('i', 0)\n",
            "('Accuracy', 0.9498349834983498)\n",
            "('i', 1)\n",
            "('Accuracy', 0.9650165016501651)\n",
            "('i', 2)\n",
            "('Accuracy', 0.9732673267326732)\n",
            "('i', 3)\n",
            "('Accuracy', 0.9740924092409241)\n",
            "('i', 4)\n",
            "('Accuracy', 0.9761551155115512)\n",
            "('i', 5)\n",
            "('Accuracy', 0.9768151815181518)\n",
            "('i', 6)\n",
            "('Accuracy', 0.9783003300330033)\n",
            "('i', 7)\n",
            "('Accuracy', 0.9782178217821782)\n",
            "('i', 8)\n",
            "('Accuracy', 0.9794554455445544)\n",
            "('i', 9)\n"
          ],
          "name": "stdout"
        },
        {
          "output_type": "display_data",
          "data": {
            "image/png": "[encoded data removed]",
            "text/plain": [
              "<matplotlib.figure.Figure at 0x7f45f0cea710>"
            ]
          },
          "metadata": {
            "tags": []
          }
        }
      ]
    },
    {
      "metadata": {
        "id": "lohASNVlkH7S",
        "colab_type": "text"
      },
      "cell_type": "markdown",
      "source": [
        "### Checking accuracies and fusion table with Random Forest"
      ]
    },
    {
      "metadata": {
        "id": "h6WWkCYGj1ta",
        "colab_type": "code",
        "colab": {
          "autoexec": {
            "startup": false,
            "wait_interval": 0
          },
          "base_uri": "https://localhost:8080/",
          "height": 1464
        },
        "outputId": "23b614f6-b5c1-484e-be74-575e8c30515d",
        "executionInfo": {
          "status": "ok",
          "timestamp": 1525897549203,
          "user_tz": -330,
          "elapsed": 116295,
          "user": {
            "displayName": "ayush gupta",
            "photoUrl": "//lh3.googleusercontent.com/-H_gav6iJTDo/AAAAAAAAAAI/AAAAAAAA9Yk/99uj7UZOMbk/s50-c-k-no/photo.jpg",
            "userId": "116069087946857344241"
          }
        }
      },
      "cell_type": "code",
      "source": [
        "from sklearn.ensemble import RandomForestClassifier\n",
        "rf = RandomForestClassifier(n_estimators=100)\n",
        "rf.fit(train_data_rf, train_labels_rf)\n",
        "results = rf.predict(test_data_rf)\n",
        "from sklearn.metrics import confusion_matrix\n",
        "from itertools import product\n",
        "import matplotlib.pyplot as plt\n",
        "def plot_confusion_matrix(cm, classes,\n",
        "                          normalize=False,\n",
        "                          title='Confusion matrix',\n",
        "                          cmap=plt.cm.Blues):\n",
        "    \"\"\"\n",
        "    This function prints and plots the confusion matrix.\n",
        "    Normalization can be applied by setting normalize=True.\n",
        "    \"\"\"\n",
        "    if normalize:\n",
        "        cm = cm.astype('float') / cm.sum(axis=1)[:, np.newaxis]\n",
        "        print(\"Normalized confusion matrix\")\n",
        "    else:\n",
        "        print('Confusion matrix, without normalization')\n",
        "\n",
        "    print(cm)\n",
        "\n",
        "    plt.imshow(cm, interpolation='nearest', cmap=cmap)\n",
        "    plt.title(title)\n",
        "    plt.colorbar()\n",
        "    tick_marks = np.arange(len(classes))\n",
        "    plt.xticks(tick_marks, classes, rotation=45)\n",
        "    plt.yticks(tick_marks, classes)\n",
        "\n",
        "    fmt = '.2f' if normalize else 'd'\n",
        "    thresh = cm.max() / 2.\n",
        "    for i, j in product(range(cm.shape[0]), range(cm.shape[1])):\n",
        "        plt.text(j, i, format(cm[i, j], fmt),\n",
        "                 horizontalalignment=\"center\",\n",
        "                 color=\"white\" if cm[i, j] > thresh else \"black\")\n",
        "\n",
        "    plt.tight_layout()\n",
        "    plt.ylabel('True label')\n",
        "    plt.xlabel('Predicted label')\n",
        "    \n",
        "cnf_matrix = confusion_matrix(test_labels_rf, results)\n",
        "class_names=[]\n",
        "plt.figure()\n",
        "plot_confusion_matrix(cnf_matrix, classes=class_names,title='Confusion matrix, without normalization')\n",
        "\n",
        "# Plot normalized confusion matrix\n",
        "plt.figure()\n",
        "plot_confusion_matrix(cnf_matrix, classes=class_names, normalize=True,title='Normalized confusion matrix')\n",
        "\n",
        "\n",
        "from sklearn.metrics import accuracy_score\n",
        "print(\"Accuracy\",accuracy_score(test_labels_rf, results))"
      ],
      "execution_count": 7,
      "outputs": [
        {
          "output_type": "stream",
          "text": [
            "Confusion matrix, without normalization\n",
            "[[1035    2    7    0    8    2    0    5    3]\n",
            " [   4  403    0    4    0   27    1    8    0]\n",
            " [  37    1  466    0    0    1    0   14    2]\n",
            " [  10    0    0 1374    1    1    3    5    3]\n",
            " [  35    0    1    9  759    1    0    4    0]\n",
            " [   2    2    1    2    2 3492    4    3    0]\n",
            " [   2    0    0    6    0    2 1557    1    8]\n",
            " [   3    3    3    1    5    6    0 1979    2]\n",
            " [   0    0    2    5    0   18   10    6  757]]\n",
            "Normalized confusion matrix\n",
            "[[9.74576271e-01 1.88323917e-03 6.59133710e-03 0.00000000e+00\n",
            "  7.53295669e-03 1.88323917e-03 0.00000000e+00 4.70809793e-03\n",
            "  2.82485876e-03]\n",
            " [8.94854586e-03 9.01565996e-01 0.00000000e+00 8.94854586e-03\n",
            "  0.00000000e+00 6.04026846e-02 2.23713647e-03 1.78970917e-02\n",
            "  0.00000000e+00]\n",
            " [7.10172745e-02 1.91938580e-03 8.94433781e-01 0.00000000e+00\n",
            "  0.00000000e+00 1.91938580e-03 0.00000000e+00 2.68714012e-02\n",
            "  3.83877159e-03]\n",
            " [7.15819613e-03 0.00000000e+00 0.00000000e+00 9.83536149e-01\n",
            "  7.15819613e-04 7.15819613e-04 2.14745884e-03 3.57909807e-03\n",
            "  2.14745884e-03]\n",
            " [4.32632880e-02 0.00000000e+00 1.23609394e-03 1.11248455e-02\n",
            "  9.38195303e-01 1.23609394e-03 0.00000000e+00 4.94437577e-03\n",
            "  0.00000000e+00]\n",
            " [5.70125428e-04 5.70125428e-04 2.85062714e-04 5.70125428e-04\n",
            "  5.70125428e-04 9.95438997e-01 1.14025086e-03 8.55188141e-04\n",
            "  0.00000000e+00]\n",
            " [1.26903553e-03 0.00000000e+00 0.00000000e+00 3.80710660e-03\n",
            "  0.00000000e+00 1.26903553e-03 9.87944162e-01 6.34517766e-04\n",
            "  5.07614213e-03]\n",
            " [1.49850150e-03 1.49850150e-03 1.49850150e-03 4.99500500e-04\n",
            "  2.49750250e-03 2.99700300e-03 0.00000000e+00 9.88511489e-01\n",
            "  9.99000999e-04]\n",
            " [0.00000000e+00 0.00000000e+00 2.50626566e-03 6.26566416e-03\n",
            "  0.00000000e+00 2.25563910e-02 1.25313283e-02 7.51879699e-03\n",
            "  9.48621554e-01]]\n",
            "('Accuracy', 0.9754125412541255)\n"
          ],
          "name": "stdout"
        },
        {
          "output_type": "display_data",
          "data": {
            "image/png": "[encoded data removed]",
            "text/plain": [
              "<matplotlib.figure.Figure at 0x7f45f0a27d10>"
            ]
          },
          "metadata": {
            "tags": []
          }
        },
        {
          "output_type": "display_data",
          "data": {
            "image/png": "[encoded data removed]",
            "text/plain": [
              "<matplotlib.figure.Figure at 0x7f45f0a05090>"
            ]
          },
          "metadata": {
            "tags": []
          }
        }
      ]
    }
  ]
}